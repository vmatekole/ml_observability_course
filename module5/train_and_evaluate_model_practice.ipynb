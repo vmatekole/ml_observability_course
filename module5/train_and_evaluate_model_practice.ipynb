{
 "cells": [
  {
   "cell_type": "markdown",
   "id": "859b5f5c-ab60-4056-a67a-d528f057af55",
   "metadata": {},
   "source": [
    "# Training pipeline validation"
   ]
  },
  {
   "cell_type": "code",
   "execution_count": null,
   "id": "a5251c2e-ef64-4672-a153-c47047b7a949",
   "metadata": {},
   "outputs": [],
   "source": [
    "import pandas as pd\n",
    "import numpy as np\n",
    "import pickle \n",
    "\n",
    "from sklearn import datasets, ensemble, model_selection\n",
    "\n",
    "from evidently.report import Report\n",
    "from evidently.metric_preset import ClassificationPreset, DataDriftPreset, DataQualityPreset\n",
    "from evidently.metrics import ColumnDriftMetric, DatasetDriftMetric"
   ]
  },
  {
   "cell_type": "markdown",
   "id": "9fe91fe9-eb26-4021-91d9-951db1bac580",
   "metadata": {},
   "source": [
    "## Load Data"
   ]
  },
  {
   "cell_type": "code",
   "execution_count": null,
   "id": "e5c41500-fd8d-403e-94ad-2af5bb804d0f",
   "metadata": {},
   "outputs": [],
   "source": [
    "bank_marketing = datasets.fetch_openml(name='bank-marketing', as_frame='auto')\n",
    "bank_marketing_data = bank_marketing.frame"
   ]
  },
  {
   "cell_type": "markdown",
   "id": "66f541d2-75b5-405d-a8cf-3f76676970d3",
   "metadata": {},
   "source": [
    "## Attribute Information:\n",
    "\n",
    "### Bank client data:\n",
    "* **Age** (numeric)\n",
    "* **Job :** type of job (categorical: 'admin.', 'blue-collar', 'entrepreneur', 'housemaid', 'management', 'retired', 'self-employed', 'services', 'student', 'technician', 'unemployed', 'unknown')\n",
    "* **Marital :** marital status (categorical: 'divorced', 'married', 'single', 'unknown' ; note: 'divorced' means divorced or widowed)\n",
    "* **Education** (categorical: 'basic.4y', 'basic.6y', 'basic.9y', 'high.school', 'illiterate', 'professional.course', 'university.degree', 'unknown')\n",
    "* **Default:** has credit in default? (categorical: 'no', 'yes', 'unknown')\n",
    "* **Balance:** average yearly balance, in euros (numeric)\n",
    "* **Housing:** has housing loan? (categorical: 'no', 'yes', 'unknown')\n",
    "* **Loan:** has personal loan? (categorical: 'no', 'yes', 'unknown')\n",
    "\n",
    "### Related with the last contact of the current campaign:\n",
    "* **Contact:** contact communication type (categorical:\n",
    "'cellular','telephone')\n",
    "* **Day:** ast contact day of the month (numeric)\n",
    "* **Month:** last contact month of year (categorical: 'jan', 'feb', 'mar', …, 'nov', 'dec')\n",
    "* **Duration:** last contact duration, in seconds (numeric). Important\n",
    "note: this attribute highly affects the output target (e.g., if\n",
    "duration=0 then y='no'). Yet, the duration is not known before a call\n",
    "is performed. Also, after the end of the call y is obviously known.\n",
    "Thus, this input should only be included for benchmark purposes and\n",
    "should be discarded if the intention is to have a realistic\n",
    "predictive model.\n",
    "\n",
    "### Other attributes:\n",
    "* **Campaign:** number of contacts performed during this campaign and for\n",
    "this client (numeric, includes last contact)\n",
    "* **Pdays:** number of days that passed by after the client was last\n",
    "contacted from a previous campaign (numeric; 999 means client was not\n",
    "previously contacted)\n",
    "* **Previous:** number of contacts performed before this campaign and for\n",
    "this client (numeric)\n",
    "* **Poutcome:** outcome of the previous marketing campaign (categorical:\n",
    "'failure','nonexistent','success')"
   ]
  },
  {
   "cell_type": "code",
   "execution_count": null,
   "id": "dd3b1cde-de75-428e-bb32-b17b0962f7d5",
   "metadata": {},
   "outputs": [],
   "source": [
    "bank_marketing_data.info()"
   ]
  },
  {
   "cell_type": "code",
   "execution_count": null,
   "id": "0befdabe-a4ee-4a1d-946e-029f1c13050d",
   "metadata": {},
   "outputs": [],
   "source": [
    "bank_marketing_data.head()"
   ]
  },
  {
   "cell_type": "code",
   "execution_count": null,
   "id": "cc499801-6141-4445-9f5a-40d8388d6a9d",
   "metadata": {},
   "outputs": [],
   "source": [
    "bank_marketing_data.columns = ['age', 'job', 'marital', 'education', 'default', 'balance', 'housing', 'loan', 'contact', \n",
    "                              'day', 'month', 'duration', 'campaign', 'pdays', 'previous', 'poutcome', 'class']"
   ]
  },
  {
   "cell_type": "code",
   "execution_count": null,
   "id": "d7d549e4-d878-4154-8246-d2e852d3060e",
   "metadata": {},
   "outputs": [],
   "source": [
    "bank_marketing_data.head()"
   ]
  },
  {
   "cell_type": "code",
   "execution_count": null,
   "id": "005874d8-70fd-45e0-a430-5941eb4ce447",
   "metadata": {},
   "outputs": [],
   "source": [
    "bank_marketing_data['class'].value_counts()"
   ]
  },
  {
   "cell_type": "code",
   "execution_count": null,
   "id": "c6611d8a-dedd-44ed-9038-3fe65dc60a52",
   "metadata": {},
   "outputs": [],
   "source": [
    "def feature_engineering(raw_data: pd.DataFrame) -> pd.DataFrame:\n",
    "    preprocessed_data = raw_data.copy(deep = True)\n",
    "\n",
    "    preprocessed_data.columns = ['age', 'job', 'marital', 'education', 'default', 'balance', 'housing', 'loan', 'contact', \n",
    "                              'day', 'month', 'duration', 'campaign', 'pdays', 'previous', 'poutcome', 'class']\n",
    "\n",
    "    #client data preprocessing\n",
    "    preprocessed_data['has_default'] = preprocessed_data.default.apply(\n",
    "        lambda x : 0 if x == 'no' else 1 if x == 'yes' else -1\n",
    "    )\n",
    "\n",
    "    preprocessed_data['has_housing_loan'] = preprocessed_data.housing.apply(\n",
    "        lambda x : 0 if x == 'no' else 1 if x == 'yes' else -1\n",
    "    )\n",
    "\n",
    "    preprocessed_data['has_personal_loan'] = preprocessed_data.loan.apply(\n",
    "        lambda x : 0 if x == 'no' else 1 if x == 'yes' else -1\n",
    "    )\n",
    "\n",
    "    marital_dummies = pd.get_dummies(preprocessed_data.marital, prefix = 'marital')\n",
    "    preprocessed_data = pd.concat([preprocessed_data, marital_dummies], axis = 1)\n",
    "\n",
    "    job_dummies = pd.get_dummies(preprocessed_data.job, prefix = 'job')\n",
    "    preprocessed_data = pd.concat([preprocessed_data, job_dummies], axis = 1)\n",
    "\n",
    "    edu_dummies = pd.get_dummies(preprocessed_data.education, prefix = 'edu')\n",
    "    preprocessed_data = pd.concat([preprocessed_data, edu_dummies], axis = 1)\n",
    "\n",
    "    preprocessed_data.drop(columns = ['default', 'housing', 'loan', 'marital', 'job', 'education'], inplace=True)\n",
    "\n",
    "    # last contact data preprocessing\n",
    "    contact_dummies = pd.get_dummies(preprocessed_data.contact, prefix = 'contact_type')\n",
    "    preprocessed_data = pd.concat([preprocessed_data, contact_dummies], axis = 1)\n",
    "\n",
    "    month_dummies = pd.get_dummies(preprocessed_data.month, prefix = 'month')\n",
    "    preprocessed_data = pd.concat([preprocessed_data, month_dummies], axis = 1)   \n",
    "\n",
    "    preprocessed_data.drop(columns = ['contact', 'month'], inplace=True)\n",
    "    \n",
    "    # other attributes preprocessing\n",
    "    poutcome_dummies = pd.get_dummies(preprocessed_data.poutcome, prefix = 'prev_camp_outcome')\n",
    "    preprocessed_data = pd.concat([preprocessed_data, poutcome_dummies], axis = 1)\n",
    "    preprocessed_data.drop(columns = ['poutcome'], inplace=True)\n",
    "\n",
    "    #target preprocessing\n",
    "    preprocessed_data['target'] = preprocessed_data['class'].apply(lambda x : 0 if x == '1' else 1)\n",
    "    preprocessed_data.drop(columns = ['class'], inplace=True)\n",
    "    \n",
    "    return preprocessed_data\n",
    "    "
   ]
  },
  {
   "cell_type": "code",
   "execution_count": null,
   "id": "0dcdd9c5-bbc2-44c8-b903-3dbf2d5ae90c",
   "metadata": {},
   "outputs": [],
   "source": [
    "train_data = bank_marketing_data[:5000]\n",
    "\n",
    "reference_data = bank_marketing_data[5000:7000]\n",
    "\n",
    "prod_simulation_data = bank_marketing_data[7000:]\n",
    "\n",
    "batch_size = 2000"
   ]
  },
  {
   "cell_type": "code",
   "execution_count": null,
   "id": "73106c76-2eeb-4d71-8e4d-9a74077ba49f",
   "metadata": {},
   "outputs": [],
   "source": [
    "processed_train = feature_engineering(train_data)"
   ]
  },
  {
   "cell_type": "code",
   "execution_count": null,
   "id": "2e32d193-26fd-4c5b-a99f-0df2fe88f3c8",
   "metadata": {},
   "outputs": [],
   "source": [
    "processed_reference = feature_engineering(reference_data)"
   ]
  },
  {
   "cell_type": "code",
   "execution_count": null,
   "id": "4356f70b-2f51-4b3c-a47a-17707ce01016",
   "metadata": {},
   "outputs": [],
   "source": [
    "processed_train.head()"
   ]
  },
  {
   "cell_type": "code",
   "execution_count": null,
   "id": "47c250d3-9256-4939-a844-b0d2c2109c12",
   "metadata": {},
   "outputs": [],
   "source": [
    "processed_reference.info()"
   ]
  },
  {
   "cell_type": "markdown",
   "id": "82e82178-5d24-472d-9de2-dc8b42ad2362",
   "metadata": {},
   "source": [
    "## Model Training"
   ]
  },
  {
   "cell_type": "code",
   "execution_count": null,
   "id": "f8277922-4655-4454-a834-d32ff1a89402",
   "metadata": {},
   "outputs": [],
   "source": [
    "model = ensemble.RandomForestClassifier(random_state=42, n_estimators=100)"
   ]
  },
  {
   "cell_type": "code",
   "execution_count": null,
   "id": "90df7a5a-c5ec-49f5-94b6-68f6acfabf7c",
   "metadata": {},
   "outputs": [],
   "source": [
    "processed_train.iloc[:, :-1]"
   ]
  },
  {
   "cell_type": "code",
   "execution_count": null,
   "id": "4a1e229e-d423-4075-bb00-3f0f3aa6c4f8",
   "metadata": {},
   "outputs": [],
   "source": [
    "model.fit(processed_train.iloc[:, :-1], processed_train['target'])"
   ]
  },
  {
   "cell_type": "code",
   "execution_count": null,
   "id": "edca3b39-6aa0-4630-9162-3fe26eea3e6a",
   "metadata": {},
   "outputs": [],
   "source": [
    "processed_train['prediction'] = model.predict(processed_train.iloc[:, :-1])\n",
    "processed_reference['prediction'] = model.predict(processed_reference.iloc[:, :-1])"
   ]
  },
  {
   "cell_type": "markdown",
   "id": "3831bdd6-225a-4d57-b171-658659202718",
   "metadata": {},
   "source": [
    "## Model Evaluation"
   ]
  },
  {
   "cell_type": "code",
   "execution_count": null,
   "id": "014a6b68-6dec-46bc-a075-80530672f57c",
   "metadata": {},
   "outputs": [],
   "source": [
    "model_quality_report = Report(metrics=[ClassificationPreset()])\n",
    "model_quality_report.run(reference_data=processed_train, current_data=processed_reference)\n",
    "model_quality_report.show(mode='inline')"
   ]
  },
  {
   "cell_type": "markdown",
   "id": "444e93fd-9365-4f5b-a181-57a050d0954d",
   "metadata": {},
   "source": [
    "## Save assets"
   ]
  },
  {
   "cell_type": "code",
   "execution_count": null,
   "id": "83296a3c-aac2-467e-9775-572d3f0823d1",
   "metadata": {},
   "outputs": [],
   "source": [
    "with open('model.pckl', 'wb') as fin:\n",
    "    pickle.dump(model, fin)"
   ]
  }
 ],
 "metadata": {
  "kernelspec": {
   "display_name": "Python 3 (ipykernel)",
   "language": "python",
   "name": "python3"
  },
  "language_info": {
   "codemirror_mode": {
    "name": "ipython",
    "version": 3
   },
   "file_extension": ".py",
   "mimetype": "text/x-python",
   "name": "python",
   "nbconvert_exporter": "python",
   "pygments_lexer": "ipython3",
   "version": "3.11.4"
  }
 },
 "nbformat": 4,
 "nbformat_minor": 5
}
